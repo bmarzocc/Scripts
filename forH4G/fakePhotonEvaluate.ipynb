{
 "cells": [
  {
   "cell_type": "code",
   "execution_count": 1,
   "metadata": {},
   "outputs": [
    {
     "name": "stdout",
     "output_type": "stream",
     "text": [
      "Welcome to JupyROOT 6.18/00\n"
     ]
    }
   ],
   "source": [
    "import ROOT\n",
    "%jsroot on\n",
    "import matplotlib.pyplot as plt"
   ]
  },
  {
   "cell_type": "code",
   "execution_count": 2,
   "metadata": {},
   "outputs": [],
   "source": [
    "CommonCut = 'pho1_pt > 30 && pho2_pt > 18 && pho3_pt > 15 && pho4_pt > 15 && abs(pho1_eta) < 2.5 && abs(pho2_eta) < 2.5 && abs(pho3_eta) < 2.5 && abs(pho4_eta) < 2.5 && (abs(pho1_eta) < 1.4442 || abs(pho1_eta) > 1.566) && (abs(pho2_eta) < 1.4442 || abs(pho2_eta) > 1.566) && (abs(pho3_eta) < 1.4442 || abs(pho3_eta) > 1.566) && (abs(pho4_eta) < 1.4442 || abs(pho4_eta) > 1.566) && pho1_pixelseed==0 && pho2_pixelseed==0 && pho3_pixelseed==0 && pho4_pixelseed==0 && tp_mass > 110 && tp_mass < 180'"
   ]
  },
  {
   "cell_type": "code",
   "execution_count": 101,
   "metadata": {},
   "outputs": [],
   "source": [
    "# fakePhotonCut_pho1 = 'pho1_match!=1 && pho1_MVA !=-999'\n",
    "# fakePhotonCut_pho2 = 'pho2_match!=1 && pho2_MVA !=-999'\n",
    "# fakePhotonCut_pho3 = 'pho3_match!=1 && pho3_MVA !=-999'\n",
    "# fakePhotonCut_pho4 = 'pho4_match!=1 && pho4_MVA !=-999'\n"
   ]
  },
  {
   "cell_type": "code",
   "execution_count": 105,
   "metadata": {},
   "outputs": [],
   "source": [
    "PhotonCut_pho1 = ' pho1_MVA !=-999'\n",
    "PhotonCut_pho2 = ' pho2_MVA !=-999'\n",
    "PhotonCut_pho3 = ' pho3_MVA !=-999'\n",
    "PhotonCut_pho4 = ' pho4_MVA !=-999'\n"
   ]
  },
  {
   "cell_type": "code",
   "execution_count": 106,
   "metadata": {},
   "outputs": [],
   "source": [
    "fakePhotonCut_pho1 = 'pho1_match!=1'\n",
    "fakePhotonCut_pho2 = 'pho2_match!=1'\n",
    "fakePhotonCut_pho3 = 'pho3_match!=1'\n",
    "fakePhotonCut_pho4 = 'pho4_match!=1'"
   ]
  },
  {
   "cell_type": "code",
   "execution_count": 107,
   "metadata": {},
   "outputs": [],
   "source": [
    "Cut_Pho1 = []\n",
    "Cut_Pho2 = []\n",
    "Cut_Pho3 = []\n",
    "Cut_Pho4 = []\n",
    "i = -1\n",
    "idVal = []\n",
    "while i < 1:\n",
    "    Cut_Pho1.append(['pho1_MVA >'+str(i)])\n",
    "    Cut_Pho2.append(['pho2_MVA >'+str(i)])\n",
    "    Cut_Pho3.append(['pho3_MVA >'+str(i)])\n",
    "    Cut_Pho4.append(['pho4_MVA >'+str(i)])\n",
    "    idVal.append(i)\n",
    "    i +=0.01    "
   ]
  },
  {
   "cell_type": "code",
   "execution_count": 119,
   "metadata": {},
   "outputs": [],
   "source": [
    "tch_DiPho = ROOT.TChain(\"DiPhotonTree\")\n",
    "tch_DiPho.Add(\"/eos/user/t/twamorka/Jan2020/2016Samples/OldDiphoPairing/wCatMVA_20Jan2020/m_60/DiPho40to80_skim.root/DiPhotonJetsBox_M40_80_Sherpa_13TeV_4photons\");\n",
    "tch_DiPho.Add(\"/eos/user/t/twamorka/Jan2020/2016Samples/OldDiphoPairing/wCatMVA_20Jan2020/m_60/DiPho80toInf_skim.root/DiPhotonJetsBox_MGG_80toInf_13TeV_Sherpa_13TeV_4photons\");"
   ]
  },
  {
   "cell_type": "code",
   "execution_count": 127,
   "metadata": {},
   "outputs": [],
   "source": [
    "tch_GJet = ROOT.TChain(\"GJetTree\")\n",
    "tch_GJet.Add(\"/eos/user/t/twamorka/Jan2020/2016Samples/OldDiphoPairing/wCatMVA_20Jan2020/m_60/GJet20to40_skim.root/GJet_Pt_20to40_DoubleEMEnriched_MGG_80toInf_TuneCUETP8M1_13TeV_Pythia8_13TeV_4photons\");\n",
    "tch_GJet.Add(\"/eos/user/t/twamorka/Jan2020/2016Samples/OldDiphoPairing/wCatMVA_20Jan2020/m_60/GJet20toInf_skim.root/GJet_Pt_20toInf_DoubleEMEnriched_MGG_40to80_TuneCUETP8M1_13TeV_Pythia8_13TeV_4photons\");\n",
    "tch_GJet.Add(\"/eos/user/t/twamorka/Jan2020/2016Samples/OldDiphoPairing/wCatMVA_20Jan2020/m_60/GJet40toInf_skim.root/GJet_Pt_40toInf_DoubleEMEnriched_MGG_80toInf_TuneCUETP8M1_13TeV_Pythia8_13TeV_4photons\");"
   ]
  },
  {
   "cell_type": "code",
   "execution_count": 128,
   "metadata": {},
   "outputs": [],
   "source": [
    "tch_QCD = ROOT.TChain(\"QCDTree\")\n",
    "tch_QCD.Add(\"/eos/user/t/twamorka/Jan2020/2016Samples/OldDiphoPairing/wCatMVA_20Jan2020/m_60/QCD30to40_skim.root/QCD_Pt_30to40_DoubleEMEnriched_MGG_80toInf_TuneCUETP8M1_13TeV_Pythia8_13TeV_4photons\");\n",
    "tch_QCD.Add(\"/eos/user/t/twamorka/Jan2020/2016Samples/OldDiphoPairing/wCatMVA_20Jan2020/m_60/QCD40toInf_skim.root/QCD_Pt_40toInf_DoubleEMEnriched_MGG_80toInf_TuneCUETP8M1_13TeV_Pythia8_13TeV_4photons\");"
   ]
  },
  {
   "cell_type": "code",
   "execution_count": 163,
   "metadata": {},
   "outputs": [],
   "source": [
    "tch_all = ROOT.TChain(\"BkgTree\")\n",
    "tch_all.Add(\"/eos/user/t/twamorka/Jan2020/2016Samples/OldDiphoPairing/wCatMVA_20Jan2020/m_60/DiPho40to80_skim.root/DiPhotonJetsBox_M40_80_Sherpa_13TeV_4photons\");\n",
    "tch_all.Add(\"/eos/user/t/twamorka/Jan2020/2016Samples/OldDiphoPairing/wCatMVA_20Jan2020/m_60/DiPho80toInf_skim.root/DiPhotonJetsBox_MGG_80toInf_13TeV_Sherpa_13TeV_4photons\");\n",
    "tch_all.Add(\"/eos/user/t/twamorka/Jan2020/2016Samples/OldDiphoPairing/wCatMVA_20Jan2020/m_60/GJet20to40_skim.root/GJet_Pt_20to40_DoubleEMEnriched_MGG_80toInf_TuneCUETP8M1_13TeV_Pythia8_13TeV_4photons\");\n",
    "tch_all.Add(\"/eos/user/t/twamorka/Jan2020/2016Samples/OldDiphoPairing/wCatMVA_20Jan2020/m_60/GJet20toInf_skim.root/GJet_Pt_20toInf_DoubleEMEnriched_MGG_40to80_TuneCUETP8M1_13TeV_Pythia8_13TeV_4photons\");\n",
    "tch_all.Add(\"/eos/user/t/twamorka/Jan2020/2016Samples/OldDiphoPairing/wCatMVA_20Jan2020/m_60/GJet40toInf_skim.root/GJet_Pt_40toInf_DoubleEMEnriched_MGG_80toInf_TuneCUETP8M1_13TeV_Pythia8_13TeV_4photons\");\n",
    "tch_all.Add(\"/eos/user/t/twamorka/Jan2020/2016Samples/OldDiphoPairing/wCatMVA_20Jan2020/m_60/QCD30to40_skim.root/QCD_Pt_30to40_DoubleEMEnriched_MGG_80toInf_TuneCUETP8M1_13TeV_Pythia8_13TeV_4photons\");\n",
    "tch_all.Add(\"/eos/user/t/twamorka/Jan2020/2016Samples/OldDiphoPairing/wCatMVA_20Jan2020/m_60/QCD40toInf_skim.root/QCD_Pt_40toInf_DoubleEMEnriched_MGG_80toInf_TuneCUETP8M1_13TeV_Pythia8_13TeV_4photons\");\n"
   ]
  },
  {
   "cell_type": "code",
   "execution_count": 164,
   "metadata": {},
   "outputs": [],
   "source": [
    "whichBk = \"All\"\n"
   ]
  },
  {
   "cell_type": "code",
   "execution_count": 166,
   "metadata": {},
   "outputs": [],
   "source": [
    "tch = ROOT.TChain()\n",
    "if (whichBk == \"QCD\"):\n",
    "    tch = tch_QCD\n",
    "elif (whichBk == \"GJet\"):\n",
    "    tch = tch_GJet\n",
    "elif (whichBk == \"DiPho\"):\n",
    "    tch = tch_DiPho\n",
    "else:\n",
    "    tch = tch_all"
   ]
  },
  {
   "cell_type": "code",
   "execution_count": 167,
   "metadata": {},
   "outputs": [
    {
     "name": "stdout",
     "output_type": "stream",
     "text": [
      "407096\n"
     ]
    }
   ],
   "source": [
    "print tch.GetEntries()"
   ]
  },
  {
   "cell_type": "code",
   "execution_count": 168,
   "metadata": {},
   "outputs": [
    {
     "name": "stdout",
     "output_type": "stream",
     "text": [
      "17992\n"
     ]
    }
   ],
   "source": [
    "Evs_Tot_DiPho_Pho1 = tch.Draw(\"pho1_pt\",PhotonCut_pho1+'&&'+CommonCut)\n",
    "print Evs_Tot_DiPho_Pho1\n",
    "Eff_Pho1_Fake = []\n",
    "for cut in Cut_Pho1:\n",
    "#     print cut[0]\n",
    "    Evs_Fake_DiPho_Pho1 =  tch.Draw(\"pho1_pt\",fakePhotonCut_pho1+'&&'+ cut[0]+'&&'+CommonCut+'&&'+PhotonCut_pho1)\n",
    "    Eff_Pho1_Fake.append( float(Evs_Fake_DiPho_Pho1)*100/float(Evs_Tot_DiPho_Pho1))\n",
    "\n"
   ]
  },
  {
   "cell_type": "code",
   "execution_count": 169,
   "metadata": {},
   "outputs": [
    {
     "name": "stdout",
     "output_type": "stream",
     "text": [
      "[3.0513561582925743, 1.9286349488661627, 1.4395286794130724, 1.1282792352156514, 0.9782125389061805, 0.8281458425967096, 0.755891507336594, 0.7114273010226767, 0.6725211204979991, 0.6502890173410405, 0.6169408626056024, 0.6113828368163629, 0.5891507336594042, 0.5780346820809249, 0.5780346820809249, 0.5558025789239662, 0.5224544241885283, 0.5113383726100489, 0.5057803468208093, 0.5002223210315696, 0.48910626945309027, 0.4835482436638506, 0.4724321920853713, 0.4668741662961316, 0.4668741662961316, 0.4668741662961316, 0.4668741662961316, 0.45575811471765226, 0.45575811471765226, 0.4502000889284126, 0.4502000889284126, 0.4502000889284126, 0.444642063139173, 0.4390840373499333, 0.4390840373499333, 0.43352601156069365, 0.41685193419297467, 0.41685193419297467, 0.41685193419297467, 0.41685193419297467, 0.41685193419297467, 0.411293908403735, 0.40573588261449534, 0.40573588261449534, 0.40573588261449534, 0.4001778568252557, 0.4001778568252557, 0.38906180524677636, 0.38906180524677636, 0.377945753668297, 0.3723877278790574, 0.3723877278790574, 0.36127167630057805, 0.35571365051133835, 0.35571365051133835, 0.35571365051133835, 0.35571365051133835, 0.35571365051133835, 0.35571365051133835, 0.3501556247220987, 0.3501556247220987, 0.3501556247220987, 0.3501556247220987, 0.3501556247220987, 0.3501556247220987, 0.3501556247220987, 0.3501556247220987, 0.3501556247220987, 0.3501556247220987, 0.3501556247220987, 0.3501556247220987, 0.3501556247220987, 0.3501556247220987, 0.3501556247220987, 0.3501556247220987, 0.3501556247220987, 0.3501556247220987, 0.3501556247220987, 0.3501556247220987, 0.3501556247220987, 0.3501556247220987, 0.3445975989328591, 0.3445975989328591, 0.3445975989328591, 0.3445975989328591, 0.3445975989328591, 0.3445975989328591, 0.3390395731436194, 0.3390395731436194, 0.3390395731436194, 0.3390395731436194, 0.3390395731436194, 0.3390395731436194, 0.3390395731436194, 0.3390395731436194, 0.3390395731436194, 0.3390395731436194, 0.33348154735437974, 0.33348154735437974, 0.32792352156514004, 0.31680746998666076, 0.31680746998666076, 0.31680746998666076, 0.31680746998666076, 0.31680746998666076, 0.31680746998666076, 0.31124944419742107, 0.30013339261894173, 0.30013339261894173, 0.30013339261894173, 0.28901734104046245, 0.28901734104046245, 0.28901734104046245, 0.28901734104046245, 0.28345931525122275, 0.28345931525122275, 0.2779012894619831, 0.2779012894619831, 0.2779012894619831, 0.2779012894619831, 0.2779012894619831, 0.2779012894619831, 0.2779012894619831, 0.2723432636727434, 0.2723432636727434, 0.2723432636727434, 0.2667852378835038, 0.2667852378835038, 0.2667852378835038, 0.26122721209426414, 0.26122721209426414, 0.26122721209426414, 0.26122721209426414, 0.26122721209426414, 0.26122721209426414, 0.26122721209426414, 0.2501111605157848, 0.2501111605157848, 0.24455313472654513, 0.24455313472654513, 0.24455313472654513, 0.24455313472654513, 0.23899510893730547, 0.23899510893730547, 0.23899510893730547, 0.23899510893730547, 0.23899510893730547, 0.23899510893730547, 0.23899510893730547, 0.2334370831480658, 0.22787905735882613, 0.22787905735882613, 0.22787905735882613, 0.22787905735882613, 0.22787905735882613, 0.22787905735882613, 0.22787905735882613, 0.22787905735882613, 0.2223210315695865, 0.2223210315695865, 0.21676300578034682, 0.21120497999110716, 0.21120497999110716, 0.21120497999110716, 0.21120497999110716, 0.21120497999110716, 0.21120497999110716, 0.21120497999110716, 0.2056469542018675, 0.20008892841262785, 0.19453090262338818, 0.1889728768341485, 0.18341485104490884, 0.17785682525566918, 0.17785682525566918, 0.17229879946642954, 0.17229879946642954, 0.17229879946642954, 0.17229879946642954, 0.16674077367718987, 0.1611827478879502, 0.1611827478879502, 0.1611827478879502, 0.1611827478879502, 0.1611827478879502, 0.15006669630947087, 0.15006669630947087, 0.13895064473099156, 0.13895064473099156, 0.13895064473099156, 0.1333926189417519, 0.11116051578479325, 0.11116051578479325, 0.09448643841707426, 0.07225433526011561, 0.044464206313917294, 0.022232103156958647, 0.005558025789239662, 0.0, 0.0]\n",
      "17992\n"
     ]
    }
   ],
   "source": [
    "print Eff_Pho1_Fake\n",
    "print Evs_Tot_DiPho_Pho1"
   ]
  },
  {
   "cell_type": "code",
   "execution_count": 170,
   "metadata": {},
   "outputs": [],
   "source": [
    "Evs_Tot_DiPho_Pho2 = tch.Draw(\"pho2_pt\",PhotonCut_pho2+'&&'+CommonCut)\n",
    "# print Evs_Tot_DiPho\n",
    "Eff_Pho2_Fake = []\n",
    "for cut in Cut_Pho2:\n",
    "#     print cut[0]\n",
    "    Evs_Fake_DiPho_Pho2 =  tch.Draw(\"pho2_pt\",fakePhotonCut_pho2+'&&'+ cut[0]+'&&'+CommonCut+'&&'+PhotonCut_pho2)\n",
    "    Eff_Pho2_Fake.append( float(Evs_Fake_DiPho_Pho2)*100/float(Evs_Tot_DiPho_Pho2))"
   ]
  },
  {
   "cell_type": "code",
   "execution_count": null,
   "metadata": {},
   "outputs": [],
   "source": [
    "Evs_Tot_DiPho_Pho3 = tch.Draw(\"pho3_pt\",PhotonCut_pho3+'&&'+CommonCut)\n",
    "# print Evs_Tot_DiPho\n",
    "Eff_Pho3_Fake = []\n",
    "for cut in Cut_Pho3:\n",
    "#     print cut[0]\n",
    "    Evs_Fake_DiPho_Pho3 =  tch.Draw(\"pho3_pt\",fakePhotonCut_pho3+'&&'+ cut[0]+'&&'+CommonCut+'&&'+PhotonCut_pho3)\n",
    "    Eff_Pho3_Fake.append( float(Evs_Fake_DiPho_Pho3)*100/float(Evs_Tot_DiPho_Pho3))"
   ]
  },
  {
   "cell_type": "code",
   "execution_count": null,
   "metadata": {},
   "outputs": [],
   "source": [
    "Evs_Tot_DiPho_Pho4 = tch.Draw(\"pho4_pt\",PhotonCut_pho4+'&&'+CommonCut)\n",
    "# print Evs_Tot_DiPho\n",
    "Eff_Pho4_Fake = []\n",
    "for cut in Cut_Pho4:\n",
    "#     print cut[0]\n",
    "    Evs_Fake_DiPho_Pho4 =  tch.Draw(\"pho4_pt\",fakePhotonCut_pho4+'&&'+ cut[0]+'&&'+CommonCut+'&&'+PhotonCut_pho4)\n",
    "    Eff_Pho4_Fake.append( float(Evs_Fake_DiPho_Pho4)*100/float(Evs_Tot_DiPho_Pho4))"
   ]
  },
  {
   "cell_type": "code",
   "execution_count": null,
   "metadata": {},
   "outputs": [],
   "source": [
    "Selection1_DiPho = plt.plot(idVal,Eff_Pho1_Fake, marker='o', label='Photon 1')\n",
    "Selection2_DiPho = plt.plot(idVal,Eff_Pho2_Fake, marker='o', label='Photon 2')\n",
    "Selection3_DiPho = plt.plot(idVal,Eff_Pho3_Fake, marker='o', label='Photon 3')\n",
    "Selection4_DiPho = plt.plot(idVal,Eff_Pho4_Fake, marker='o', label='Photon 4')\n",
    "\n",
    "# width_in_inches = 2\n",
    "# height_in_inches = 2\n",
    "# dots_per_inch = 70\n",
    "\n",
    "# plt.figure(\n",
    "#     figsize=(width_in_inches, height_in_inches),\n",
    "#     dpi=dots_per_inch)\n",
    "plt.xlabel('photon ID Value')\n",
    "plt.ylabel('Fraction of events w. fake photon')\n",
    "# plt.suptitle('m(a) = '+f[1]+'GeV', fontsize=14, fontweight='bold')\n",
    "plt.grid(True)\n",
    "plt.ylim(ymin=0)\n",
    "plt.legend()\n",
    "plt.show()"
   ]
  },
  {
   "cell_type": "code",
   "execution_count": null,
   "metadata": {},
   "outputs": [],
   "source": []
  }
 ],
 "metadata": {
  "kernelspec": {
   "display_name": "Python 2",
   "language": "python",
   "name": "python2"
  },
  "language_info": {
   "codemirror_mode": {
    "name": "ipython",
    "version": 2
   },
   "file_extension": ".py",
   "mimetype": "text/x-python",
   "name": "python",
   "nbconvert_exporter": "python",
   "pygments_lexer": "ipython2",
   "version": "2.7.16"
  }
 },
 "nbformat": 4,
 "nbformat_minor": 2
}
